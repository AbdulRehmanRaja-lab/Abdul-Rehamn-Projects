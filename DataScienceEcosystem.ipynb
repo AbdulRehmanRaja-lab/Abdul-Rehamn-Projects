{
 "cells": [
  {
   "cell_type": "markdown",
   "id": "b64bf78e-87e3-4f37-a7b7-5e490dcfcaa2",
   "metadata": {},
   "source": [
    "# Data Science TOOL and Ecosystem"
   ]
  },
  {
   "cell_type": "markdown",
   "id": "4f99437e-6b27-47df-9c19-6047961fe1ed",
   "metadata": {},
   "source": [
    "his snotebook is about data sceince that is for a person who is quries and goo d at story telling"
   ]
  },
  {
   "cell_type": "markdown",
   "id": "3226a542-b19d-413b-981d-1611fe6e4aca",
   "metadata": {},
   "source": [
    "Some of the popular languages that Data Scientists use are:\n",
    "python\n",
    "scala\n",
    "julia"
   ]
  },
  {
   "cell_type": "code",
   "execution_count": null,
   "id": "a7a918ee-d8b6-4e1d-9a4a-9d36403afa1f",
   "metadata": {},
   "outputs": [],
   "source": [
    "Some of the commonly used libraries used by Data Scientists include:\n",
    "NumPy\n",
    "Matplotlib\n",
    "Pandas"
   ]
  },
  {
   "cell_type": "markdown",
   "id": "4dc23d18-b246-487c-b048-6d57f0911939",
   "metadata": {},
   "source": [
    "|Data Science Tools|TensorFlow|Apache Spark|Apache Hadoop|\n",
    "|:-----------------|:---------:|:---------:|:-----------:|\n"
   ]
  },
  {
   "cell_type": "markdown",
   "id": "415b1180-4209-48ea-9fc6-1b53e47f0a14",
   "metadata": {},
   "source": []
  },
  {
   "cell_type": "markdown",
   "id": "3bf0bdc0-ac13-4b02-b59b-1b210936ce85",
   "metadata": {},
   "source": []
  },
  {
   "cell_type": "code",
   "execution_count": 4,
   "id": "7bb3b042-2650-46cc-ac7b-67561664c701",
   "metadata": {},
   "outputs": [
    {
     "data": {
      "text/plain": [
       "25"
      ]
     },
     "execution_count": 4,
     "metadata": {},
     "output_type": "execute_result"
    }
   ],
   "source": [
    "### Below are a few examples of evaluating arithmetic expressions in Python\n",
    "(3*5)+10\n"
   ]
  },
  {
   "cell_type": "code",
   "execution_count": 5,
   "id": "c1c798b7-9891-414e-9548-98c05b6f4cab",
   "metadata": {},
   "outputs": [
    {
     "data": {
      "text/plain": [
       "17"
      ]
     },
     "execution_count": 5,
     "metadata": {},
     "output_type": "execute_result"
    }
   ],
   "source": [
    "(3*4)+5\n",
    "# This a simple arithmetic expression to mutiply then add integers"
   ]
  },
  {
   "cell_type": "code",
   "execution_count": 7,
   "id": "8a1365d9-2084-49a8-acaa-2b4b2f67b5a7",
   "metadata": {},
   "outputs": [
    {
     "data": {
      "text/plain": [
       "3.3333333333333335"
      ]
     },
     "execution_count": 7,
     "metadata": {},
     "output_type": "execute_result"
    }
   ],
   "source": [
    "200/60\n",
    "# This will convert 200 minutes to hours by diving by 60"
   ]
  },
  {
   "cell_type": "markdown",
   "id": "1c4b12dd-9411-4223-a2d3-4f012fb20d3a",
   "metadata": {},
   "source": [
    "__Objectives:__\n",
    "list of skills a person should have to become Dta scientist\n",
    "- story telling\n",
    "- static\n",
    "- probability\n",
    "- coding"
   ]
  },
  {
   "cell_type": "markdown",
   "id": "8aae4325-929d-4fa5-9965-d41f0c355ef0",
   "metadata": {},
   "source": [
    "## Author\n",
    "Abdul Rehman Raja\n",
    "Author"
   ]
  }
 ],
 "metadata": {
  "kernelspec": {
   "display_name": "Python 3 (ipykernel)",
   "language": "python",
   "name": "python3"
  },
  "language_info": {
   "codemirror_mode": {
    "name": "ipython",
    "version": 3
   },
   "file_extension": ".py",
   "mimetype": "text/x-python",
   "name": "python",
   "nbconvert_exporter": "python",
   "pygments_lexer": "ipython3",
   "version": "3.11.4"
  }
 },
 "nbformat": 4,
 "nbformat_minor": 5
}
